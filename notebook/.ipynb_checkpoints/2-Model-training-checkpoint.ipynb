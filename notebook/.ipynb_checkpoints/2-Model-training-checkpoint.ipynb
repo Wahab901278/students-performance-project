{
 "cells": [
  {
   "cell_type": "code",
   "execution_count": 31,
   "id": "a59b96ff",
   "metadata": {},
   "outputs": [],
   "source": [
    "import numpy as np\n",
    "import pandas as pd\n",
    "import matplotlib.pyplot as plt\n",
    "import seaborn as sns\n",
    "\n",
    "# Modeling\n",
    "\n",
    "from sklearn.metrics import mean_squared_error,r2_score,mean_absolute_error\n",
    "from sklearn.neighbors import KNeighborsRegressor\n",
    "from sklearn.tree import DecisionTreeRegressor\n",
    "from sklearn.ensemble import RandomForestRegressor, AdaBoostRegressor\n",
    "from sklearn.svm import SVR\n",
    "from sklearn.linear_model import LinearRegression, Ridge, Lasso\n",
    "from sklearn.model_selection import RandomizedSearchCV\n",
    "from catboost import CatBoostRegressor\n",
    "from xgboost import XGBRegressor\n",
    "\n",
    "import warnings\n",
    "warnings.filterwarnings('ignore')"
   ]
  },
  {
   "cell_type": "code",
   "execution_count": 2,
   "id": "ca6e0508",
   "metadata": {},
   "outputs": [],
   "source": [
    "df=pd.read_csv('data/stud.csv')"
   ]
  },
  {
   "cell_type": "code",
   "execution_count": 3,
   "id": "5ca73233",
   "metadata": {},
   "outputs": [
    {
     "data": {
      "text/html": [
       "<div>\n",
       "<style scoped>\n",
       "    .dataframe tbody tr th:only-of-type {\n",
       "        vertical-align: middle;\n",
       "    }\n",
       "\n",
       "    .dataframe tbody tr th {\n",
       "        vertical-align: top;\n",
       "    }\n",
       "\n",
       "    .dataframe thead th {\n",
       "        text-align: right;\n",
       "    }\n",
       "</style>\n",
       "<table border=\"1\" class=\"dataframe\">\n",
       "  <thead>\n",
       "    <tr style=\"text-align: right;\">\n",
       "      <th></th>\n",
       "      <th>gender</th>\n",
       "      <th>race_ethnicity</th>\n",
       "      <th>parental_level_of_education</th>\n",
       "      <th>lunch</th>\n",
       "      <th>test_preparation_course</th>\n",
       "      <th>math_score</th>\n",
       "      <th>reading_score</th>\n",
       "      <th>writing_score</th>\n",
       "    </tr>\n",
       "  </thead>\n",
       "  <tbody>\n",
       "    <tr>\n",
       "      <th>0</th>\n",
       "      <td>female</td>\n",
       "      <td>group B</td>\n",
       "      <td>bachelor's degree</td>\n",
       "      <td>standard</td>\n",
       "      <td>none</td>\n",
       "      <td>72</td>\n",
       "      <td>72</td>\n",
       "      <td>74</td>\n",
       "    </tr>\n",
       "    <tr>\n",
       "      <th>1</th>\n",
       "      <td>female</td>\n",
       "      <td>group C</td>\n",
       "      <td>some college</td>\n",
       "      <td>standard</td>\n",
       "      <td>completed</td>\n",
       "      <td>69</td>\n",
       "      <td>90</td>\n",
       "      <td>88</td>\n",
       "    </tr>\n",
       "    <tr>\n",
       "      <th>2</th>\n",
       "      <td>female</td>\n",
       "      <td>group B</td>\n",
       "      <td>master's degree</td>\n",
       "      <td>standard</td>\n",
       "      <td>none</td>\n",
       "      <td>90</td>\n",
       "      <td>95</td>\n",
       "      <td>93</td>\n",
       "    </tr>\n",
       "    <tr>\n",
       "      <th>3</th>\n",
       "      <td>male</td>\n",
       "      <td>group A</td>\n",
       "      <td>associate's degree</td>\n",
       "      <td>free/reduced</td>\n",
       "      <td>none</td>\n",
       "      <td>47</td>\n",
       "      <td>57</td>\n",
       "      <td>44</td>\n",
       "    </tr>\n",
       "    <tr>\n",
       "      <th>4</th>\n",
       "      <td>male</td>\n",
       "      <td>group C</td>\n",
       "      <td>some college</td>\n",
       "      <td>standard</td>\n",
       "      <td>none</td>\n",
       "      <td>76</td>\n",
       "      <td>78</td>\n",
       "      <td>75</td>\n",
       "    </tr>\n",
       "  </tbody>\n",
       "</table>\n",
       "</div>"
      ],
      "text/plain": [
       "   gender race_ethnicity parental_level_of_education         lunch  \\\n",
       "0  female        group B           bachelor's degree      standard   \n",
       "1  female        group C                some college      standard   \n",
       "2  female        group B             master's degree      standard   \n",
       "3    male        group A          associate's degree  free/reduced   \n",
       "4    male        group C                some college      standard   \n",
       "\n",
       "  test_preparation_course  math_score  reading_score  writing_score  \n",
       "0                    none          72             72             74  \n",
       "1               completed          69             90             88  \n",
       "2                    none          90             95             93  \n",
       "3                    none          47             57             44  \n",
       "4                    none          76             78             75  "
      ]
     },
     "execution_count": 3,
     "metadata": {},
     "output_type": "execute_result"
    }
   ],
   "source": [
    "df.head(\n",
    ")"
   ]
  },
  {
   "cell_type": "code",
   "execution_count": 4,
   "id": "6b51f3da",
   "metadata": {},
   "outputs": [],
   "source": [
    "X=df.drop(columns=['math_score'],axis=1)"
   ]
  },
  {
   "cell_type": "code",
   "execution_count": 5,
   "id": "881dd003",
   "metadata": {},
   "outputs": [
    {
     "data": {
      "text/html": [
       "<div>\n",
       "<style scoped>\n",
       "    .dataframe tbody tr th:only-of-type {\n",
       "        vertical-align: middle;\n",
       "    }\n",
       "\n",
       "    .dataframe tbody tr th {\n",
       "        vertical-align: top;\n",
       "    }\n",
       "\n",
       "    .dataframe thead th {\n",
       "        text-align: right;\n",
       "    }\n",
       "</style>\n",
       "<table border=\"1\" class=\"dataframe\">\n",
       "  <thead>\n",
       "    <tr style=\"text-align: right;\">\n",
       "      <th></th>\n",
       "      <th>gender</th>\n",
       "      <th>race_ethnicity</th>\n",
       "      <th>parental_level_of_education</th>\n",
       "      <th>lunch</th>\n",
       "      <th>test_preparation_course</th>\n",
       "      <th>reading_score</th>\n",
       "      <th>writing_score</th>\n",
       "    </tr>\n",
       "  </thead>\n",
       "  <tbody>\n",
       "    <tr>\n",
       "      <th>0</th>\n",
       "      <td>female</td>\n",
       "      <td>group B</td>\n",
       "      <td>bachelor's degree</td>\n",
       "      <td>standard</td>\n",
       "      <td>none</td>\n",
       "      <td>72</td>\n",
       "      <td>74</td>\n",
       "    </tr>\n",
       "    <tr>\n",
       "      <th>1</th>\n",
       "      <td>female</td>\n",
       "      <td>group C</td>\n",
       "      <td>some college</td>\n",
       "      <td>standard</td>\n",
       "      <td>completed</td>\n",
       "      <td>90</td>\n",
       "      <td>88</td>\n",
       "    </tr>\n",
       "    <tr>\n",
       "      <th>2</th>\n",
       "      <td>female</td>\n",
       "      <td>group B</td>\n",
       "      <td>master's degree</td>\n",
       "      <td>standard</td>\n",
       "      <td>none</td>\n",
       "      <td>95</td>\n",
       "      <td>93</td>\n",
       "    </tr>\n",
       "    <tr>\n",
       "      <th>3</th>\n",
       "      <td>male</td>\n",
       "      <td>group A</td>\n",
       "      <td>associate's degree</td>\n",
       "      <td>free/reduced</td>\n",
       "      <td>none</td>\n",
       "      <td>57</td>\n",
       "      <td>44</td>\n",
       "    </tr>\n",
       "    <tr>\n",
       "      <th>4</th>\n",
       "      <td>male</td>\n",
       "      <td>group C</td>\n",
       "      <td>some college</td>\n",
       "      <td>standard</td>\n",
       "      <td>none</td>\n",
       "      <td>78</td>\n",
       "      <td>75</td>\n",
       "    </tr>\n",
       "  </tbody>\n",
       "</table>\n",
       "</div>"
      ],
      "text/plain": [
       "   gender race_ethnicity parental_level_of_education         lunch  \\\n",
       "0  female        group B           bachelor's degree      standard   \n",
       "1  female        group C                some college      standard   \n",
       "2  female        group B             master's degree      standard   \n",
       "3    male        group A          associate's degree  free/reduced   \n",
       "4    male        group C                some college      standard   \n",
       "\n",
       "  test_preparation_course  reading_score  writing_score  \n",
       "0                    none             72             74  \n",
       "1               completed             90             88  \n",
       "2                    none             95             93  \n",
       "3                    none             57             44  \n",
       "4                    none             78             75  "
      ]
     },
     "execution_count": 5,
     "metadata": {},
     "output_type": "execute_result"
    }
   ],
   "source": [
    "X.head()"
   ]
  },
  {
   "cell_type": "code",
   "execution_count": 15,
   "id": "eb8fd55f",
   "metadata": {},
   "outputs": [],
   "source": [
    "numeric_columns=[i for i in X.columns if df[i].dtype!='object']\n",
    "categorical_columns=[i for i in X.columns if df[i].dtype=='object']"
   ]
  },
  {
   "cell_type": "code",
   "execution_count": 16,
   "id": "c36fff3e",
   "metadata": {},
   "outputs": [
    {
     "data": {
      "text/plain": [
       "['reading_score', 'writing_score']"
      ]
     },
     "execution_count": 16,
     "metadata": {},
     "output_type": "execute_result"
    }
   ],
   "source": [
    "numeric_columns"
   ]
  },
  {
   "cell_type": "code",
   "execution_count": 17,
   "id": "e3f0c3d3",
   "metadata": {},
   "outputs": [
    {
     "data": {
      "text/plain": [
       "['gender',\n",
       " 'race_ethnicity',\n",
       " 'parental_level_of_education',\n",
       " 'lunch',\n",
       " 'test_preparation_course']"
      ]
     },
     "execution_count": 17,
     "metadata": {},
     "output_type": "execute_result"
    }
   ],
   "source": [
    "categorical_columns"
   ]
  },
  {
   "cell_type": "code",
   "execution_count": 12,
   "id": "84aa26bf",
   "metadata": {},
   "outputs": [
    {
     "name": "stdout",
     "output_type": "stream",
     "text": [
      "The number of unique values in column gender are 2 \n",
      "The unique values are: ['female' 'male']\n",
      "The number of unique values in column race_ethnicity are 5 \n",
      "The unique values are: ['group B' 'group C' 'group A' 'group D' 'group E']\n",
      "The number of unique values in column parental_level_of_education are 6 \n",
      "The unique values are: [\"bachelor's degree\" 'some college' \"master's degree\" \"associate's degree\"\n",
      " 'high school' 'some high school']\n",
      "The number of unique values in column lunch are 2 \n",
      "The unique values are: ['standard' 'free/reduced']\n",
      "The number of unique values in column test_preparation_course are 2 \n",
      "The unique values are: ['none' 'completed']\n"
     ]
    }
   ],
   "source": [
    "for column in categorical_columns:\n",
    "    print(f'The number of unique values in column {column} are {df[column].nunique()} ')\n",
    "    print(f'The unique values are: {df[column].unique()}')"
   ]
  },
  {
   "cell_type": "code",
   "execution_count": 13,
   "id": "89d8b564",
   "metadata": {},
   "outputs": [],
   "source": [
    "y=df['math_score']"
   ]
  },
  {
   "cell_type": "code",
   "execution_count": 14,
   "id": "3bf67abb",
   "metadata": {},
   "outputs": [
    {
     "data": {
      "text/plain": [
       "0      72\n",
       "1      69\n",
       "2      90\n",
       "3      47\n",
       "4      76\n",
       "       ..\n",
       "995    88\n",
       "996    62\n",
       "997    59\n",
       "998    68\n",
       "999    77\n",
       "Name: math_score, Length: 1000, dtype: int64"
      ]
     },
     "execution_count": 14,
     "metadata": {},
     "output_type": "execute_result"
    }
   ],
   "source": [
    "y"
   ]
  },
  {
   "cell_type": "code",
   "execution_count": 18,
   "id": "b44bc586",
   "metadata": {},
   "outputs": [],
   "source": [
    "from sklearn.preprocessing import OneHotEncoder, StandardScaler\n",
    "from sklearn.compose import ColumnTransformer\n",
    "\n",
    "scalar=StandardScaler()\n",
    "oh_encode=OneHotEncoder()"
   ]
  },
  {
   "cell_type": "code",
   "execution_count": 20,
   "id": "7b0879b0",
   "metadata": {},
   "outputs": [],
   "source": [
    "preprocessor=ColumnTransformer(\n",
    "    [\n",
    "        (\"OneHotEncoder\",oh_encode,categorical_columns),\n",
    "        (\"StandardScaler\",scalar,numeric_columns)\n",
    "    ]\n",
    ")"
   ]
  },
  {
   "cell_type": "code",
   "execution_count": 21,
   "id": "f856cb5c",
   "metadata": {},
   "outputs": [],
   "source": [
    "X=preprocessor.fit_transform(X)"
   ]
  },
  {
   "cell_type": "code",
   "execution_count": 22,
   "id": "883a9aa8",
   "metadata": {},
   "outputs": [
    {
     "data": {
      "text/plain": [
       "(1000, 19)"
      ]
     },
     "execution_count": 22,
     "metadata": {},
     "output_type": "execute_result"
    }
   ],
   "source": [
    "X.shape"
   ]
  },
  {
   "cell_type": "code",
   "execution_count": 23,
   "id": "268faf19",
   "metadata": {},
   "outputs": [
    {
     "data": {
      "text/plain": [
       "(1000, 8)"
      ]
     },
     "execution_count": 23,
     "metadata": {},
     "output_type": "execute_result"
    }
   ],
   "source": [
    "df.shape"
   ]
  },
  {
   "cell_type": "code",
   "execution_count": 25,
   "id": "19f73051",
   "metadata": {},
   "outputs": [],
   "source": [
    "from sklearn.model_selection import train_test_split\n",
    "\n",
    "X_train,X_test,y_train,y_test=train_test_split(X,y,test_size=0.1,random_state=42)"
   ]
  },
  {
   "cell_type": "code",
   "execution_count": 28,
   "id": "6c74b2a0",
   "metadata": {},
   "outputs": [
    {
     "data": {
      "text/plain": [
       "((900, 19), (100, 19))"
      ]
     },
     "execution_count": 28,
     "metadata": {},
     "output_type": "execute_result"
    }
   ],
   "source": [
    "X_train.shape,X_test.shape"
   ]
  },
  {
   "cell_type": "code",
   "execution_count": 34,
   "id": "b07c8d12",
   "metadata": {},
   "outputs": [],
   "source": [
    "def evaluate_model(actual,predicted):\n",
    "    mae=mean_absolute_error(actual,predicted)\n",
    "    mse=mean_squared_error(actual,predicted)\n",
    "    rmse=np.sqrt(mean_squared_error(actual,predicted))\n",
    "    r2_sc=r2_score(actual,predicted)\n",
    "\n",
    "    return mae,mse,rmse,r2_sc"
   ]
  },
  {
   "cell_type": "code",
   "execution_count": 37,
   "id": "f587d779",
   "metadata": {},
   "outputs": [
    {
     "name": "stdout",
     "output_type": "stream",
     "text": [
      "LinearRegression\n",
      "Model Performance on Training data\n",
      "Root Mean Square Value 5.3438\n",
      "Mean Square Error :28.5560\n",
      "Mean Absolute Error : 4.2679\n",
      "R2 score:0.8710\n",
      "------------------------------------------------------\n",
      "Model Performance on Testing data\n",
      "Root Mean Square Value 5.2055\n",
      "Mean Square Error :27.0972\n",
      "Mean Absolute Error : 4.0722\n",
      "R2 score:0.9096\n",
      "Lasso\n",
      "Model Performance on Training data\n",
      "Root Mean Square Value 6.6200\n",
      "Mean Square Error :43.8249\n",
      "Mean Absolute Error : 5.2520\n",
      "R2 score:0.8020\n",
      "------------------------------------------------------\n",
      "Model Performance on Testing data\n",
      "Root Mean Square Value 6.4284\n",
      "Mean Square Error :41.3245\n",
      "Mean Absolute Error : 4.8939\n",
      "R2 score:0.8621\n",
      "Ridge\n",
      "Model Performance on Training data\n",
      "Root Mean Square Value 5.3440\n",
      "Mean Square Error :28.5582\n",
      "Mean Absolute Error : 4.2663\n",
      "R2 score:0.8710\n",
      "------------------------------------------------------\n",
      "Model Performance on Testing data\n",
      "Root Mean Square Value 5.2024\n",
      "Mean Square Error :27.0647\n",
      "Mean Absolute Error : 4.0674\n",
      "R2 score:0.9097\n",
      "K-Neighbors Regressor\n",
      "Model Performance on Training data\n",
      "Root Mean Square Value 5.7471\n",
      "Mean Square Error :33.0288\n",
      "Mean Absolute Error : 4.5722\n",
      "R2 score:0.8508\n",
      "------------------------------------------------------\n",
      "Model Performance on Testing data\n",
      "Root Mean Square Value 7.8791\n",
      "Mean Square Error :62.0796\n",
      "Mean Absolute Error : 6.1500\n",
      "R2 score:0.7928\n",
      "Decision Tree\n",
      "Model Performance on Training data\n",
      "Root Mean Square Value 0.4249\n",
      "Mean Square Error :0.1806\n",
      "Mean Absolute Error : 0.0344\n",
      "R2 score:0.9992\n",
      "------------------------------------------------------\n",
      "Model Performance on Testing data\n",
      "Root Mean Square Value 8.2692\n",
      "Mean Square Error :68.3800\n",
      "Mean Absolute Error : 6.5400\n",
      "R2 score:0.7718\n",
      "RandomForestRegressor\n",
      "Model Performance on Training data\n",
      "Root Mean Square Value 2.2740\n",
      "Mean Square Error :5.1711\n",
      "Mean Absolute Error : 1.7941\n",
      "R2 score:0.9766\n",
      "------------------------------------------------------\n",
      "Model Performance on Testing data\n",
      "Root Mean Square Value 6.2107\n",
      "Mean Square Error :38.5728\n",
      "Mean Absolute Error : 4.7791\n",
      "R2 score:0.8713\n",
      "XGBRegressor\n",
      "Model Performance on Training data\n",
      "Root Mean Square Value 1.1327\n",
      "Mean Square Error :1.2831\n",
      "Mean Absolute Error : 0.7612\n",
      "R2 score:0.9942\n",
      "------------------------------------------------------\n",
      "Model Performance on Testing data\n",
      "Root Mean Square Value 6.6489\n",
      "Mean Square Error :44.2075\n",
      "Mean Absolute Error : 5.2950\n",
      "R2 score:0.8525\n",
      "Cat Boost Regressor\n",
      "Model Performance on Training data\n",
      "Root Mean Square Value 3.0866\n",
      "Mean Square Error :9.5270\n",
      "Mean Absolute Error : 2.4174\n",
      "R2 score:0.9570\n",
      "------------------------------------------------------\n",
      "Model Performance on Testing data\n",
      "Root Mean Square Value 6.4265\n",
      "Mean Square Error :41.3000\n",
      "Mean Absolute Error : 4.9911\n",
      "R2 score:0.8622\n",
      "AdaBoostRegressor\n",
      "Model Performance on Training data\n",
      "Root Mean Square Value 5.7062\n",
      "Mean Square Error :32.5606\n",
      "Mean Absolute Error : 4.6709\n",
      "R2 score:0.8529\n",
      "------------------------------------------------------\n",
      "Model Performance on Testing data\n",
      "Root Mean Square Value 5.9403\n",
      "Mean Square Error :35.2869\n",
      "Mean Absolute Error : 4.5028\n",
      "R2 score:0.8822\n"
     ]
    }
   ],
   "source": [
    "models={\n",
    "    \"LinearRegression\":LinearRegression(),\n",
    "    \"Lasso\":Lasso(),\n",
    "    \"Ridge\":Ridge(),\n",
    "    \"K-Neighbors Regressor\": KNeighborsRegressor(),\n",
    "    \"Decision Tree\":DecisionTreeRegressor(),\n",
    "    \"RandomForestRegressor\": RandomForestRegressor(),\n",
    "    \"XGBRegressor\": XGBRegressor(),\n",
    "    \"Cat Boost Regressor\": CatBoostRegressor(verbose=False),\n",
    "    \"AdaBoostRegressor\" : AdaBoostRegressor()\n",
    "}\n",
    "\n",
    "model_list=[]\n",
    "r2_list=[]\n",
    "\n",
    "for i in range(len(list(models))):\n",
    "    model=list(models.values())[i]\n",
    "    model.fit(X_train,y_train)\n",
    "\n",
    "    y_train_pred=model.predict(X_train)\n",
    "    y_test_pred=model.predict(X_test)\n",
    "    train_mae,train_mse,train_rmse,train_r2_score=evaluate_model(y_train,y_train_pred)\n",
    "    test_mae,test_mse,test_rmse,test_r2_score=evaluate_model(y_test,y_test_pred)\n",
    "\n",
    "    print(list(models.keys())[i])\n",
    "\n",
    "    model_list.append(list(models.keys())[i])\n",
    "\n",
    "    print(\"Model Performance on Training data\")\n",
    "    print(f\"Root Mean Square Value {train_rmse:.4f}\")\n",
    "    print(f\"Mean Square Error :{train_mse:.4f}\")\n",
    "    print(f\"Mean Absolute Error : {train_mae:.4f}\")\n",
    "    print(f\"R2 score:{train_r2_score:.4f}\")\n",
    "\n",
    "    print(\"------------------------------------------------------\")\n",
    "\n",
    "    print(\"Model Performance on Testing data\")\n",
    "    print(f\"Root Mean Square Value {test_rmse:.4f}\")\n",
    "    print(f\"Mean Square Error :{test_mse:.4f}\")\n",
    "    print(f\"Mean Absolute Error : {test_mae:.4f}\")\n",
    "    print(f\"R2 score:{test_r2_score:.4f}\")"
   ]
  },
  {
   "cell_type": "code",
   "execution_count": null,
   "id": "77b537ff",
   "metadata": {},
   "outputs": [],
   "source": []
  }
 ],
 "metadata": {
  "kernelspec": {
   "display_name": "myenv",
   "language": "python",
   "name": "python3"
  },
  "language_info": {
   "codemirror_mode": {
    "name": "ipython",
    "version": 3
   },
   "file_extension": ".py",
   "mimetype": "text/x-python",
   "name": "python",
   "nbconvert_exporter": "python",
   "pygments_lexer": "ipython3",
   "version": "3.12.7"
  }
 },
 "nbformat": 4,
 "nbformat_minor": 5
}
